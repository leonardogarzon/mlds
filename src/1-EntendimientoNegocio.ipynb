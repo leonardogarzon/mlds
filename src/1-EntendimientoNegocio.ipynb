{
  "cells": [
    {
      "cell_type": "markdown",
      "metadata": {
        "id": "2qrgS_sCJquS"
      },
      "source": [
        "<img src = \"https://drive.google.com/uc?export=view&id=1ljiY7gV0TKs3nnTMPA5UBdED8KGzzZnX\" alt = \"Encabezado MLDS\" width = \"100%\">  </img>"
      ]
    },
    {
      "cell_type": "markdown",
      "metadata": {
        "id": "--22KSZzLR-o"
      },
      "source": [
        "# **Entendimiento del negocio**\n",
        "---\n",
        "Este notebook es una plantilla que le puede servir como guía para el primer entregable del proyecto aplicado."
      ]
    },
    {
      "cell_type": "markdown",
      "metadata": {
        "id": "fdb4c33d"
      },
      "source": [
        "## **0. Integrantes del equipo de trabajo**\n",
        "---\n",
        "\n",
        "Por favor incluya los nombres completos y número de identificación de los integrantes del equipo de trabajo:"
      ]
    },
    {
      "cell_type": "markdown",
      "metadata": {
        "id": "ckNDI7ftUrpa"
      },
      "source": [
        "1. Jorge leonardo Garzon Castañeda \n",
        "   - 1032434194\n",
        "2. Ivan Dario Duque Molina\n",
        "   - 79656996\n",
        "3. Daniel Francisco Sanchez Hernandez\n",
        "   - 1073168523"
      ]
    },
    {
      "cell_type": "markdown",
      "metadata": {
        "id": "w2fwJpnBUkMV"
      },
      "source": [
        "## **1. Marco de Proyecto**\n",
        "---\n",
        "\n",
        "Normalmente, se suele construir un marco de proyecto para mostrar los resultados del entendimiento del negocio, es decir, debemos dar respuesta a los siguientes elementos:"
      ]
    },
    {
      "cell_type": "markdown",
      "metadata": {
        "id": "7a974ec1"
      },
      "source": [
        "### **1.1. Trasfondo del Negocio**\n",
        "---\n",
        "- ¿Quienes son los beneficiarios del proyecto? ¿En qué dominio se encuentran (marketing, medicina, entre otros)?\n",
        "- ¿Cuáles son los principales desafíos o problemas de la situación que motivan la necesidad de realizar un proyecto de análisis de datos?"
      ]
    },
    {
      "cell_type": "markdown",
      "metadata": {
        "id": "18d9305a"
      },
      "source": [
        "En nuestro proyecto queremos analizar datos de riesgo de crédito que puede beneficiar a varios actores, especialmente dentro del sector financiero y empresarial.\n",
        "\n",
        "Entre los benefeciarios del proyecto podemos tener:\n",
        "\n",
        "\n",
        "1. Entidades Financieras (Bancos, Cooperativas de Crédito, Fintechs)\n",
        "    - Objetivo: Mejorar la evaluación de riesgos y la toma de decisiones en la aprobación de préstamos y créditos.\n",
        "    - Beneficio: Minimizar la morosidad y las pérdidas asociadas con la emisión de créditos a clientes con alto riesgo. Usar modelos predictivos para optimizar la cartera de crédito.\n",
        "\n",
        "2. Aseguradoras\n",
        "    - Objetivo: Evaluar la solvencia de los solicitantes de seguros y definir primas más ajustadas al riesgo de crédito.\n",
        "    - Beneficio: Reducción de fraudes y pérdidas asociadas con personas o empresas de alto riesgo financiero.\n",
        "\n",
        "3. Consultoras y Empresas de Análisis de Datos\n",
        "    - Objetivo: Desarrollar modelos de predicción para asesorar a sus clientes en la gestión de riesgos financieros.\n",
        "    - Beneficio: Mejorar la precisión en las recomendaciones que hacen a sus clientes en cuanto a la gestión de riesgo.\n",
        "\n",
        "4. Plataformas de Crédito Alternativo\n",
        "    - Objetivo: Ofrecer productos financieros a personas no bancarizadas o con historial crediticio limitado, utilizando modelos alternativos para la evaluación de crédito\n",
        "    - Beneficio: Acceder a un mercado más amplio y evaluar el riesgo de manera más inclusiva\n",
        "\n",
        "5. Empresas de Datos y Credit Scoring\n",
        "    - Objetivo: Mejorar sus modelos de puntuación crediticia y ofrecer servicios más precisos.\n",
        "    - Beneficio: Ofrecer un análisis más detallado y preciso a sus clientes, lo que puede llevar a una mayor confianza y adopción de sus productos.\n",
        "\n",
        "6. Consumidores y Usuarios de Créditos\n",
        "    - Objetivo: Mejorar la transparencia en el proceso de aprobación de crédito y poder acceder a mejores condiciones financieras\n",
        "    - Beneficio: Acceder a productos de crédito más personalizados y justos según su perfil de riesgo.\n",
        "\n",
        "Este tipo de análisis es fundamental para instituciones financieras que buscan mejorar sus procesos de toma de decisiones, reducir riesgos y optimizar la rentabilidad, a la vez que ofrecen soluciones más inclusivas y personalizadas.\n",
        "\n",
        "El análisis de datos sobre el riesgo de crédito responde a varios desafíos clave dentro del sector financiero.\n",
        "\n",
        "Entre los principales problemas que motivan la necesidad de un analisis de este tipo tenemos:\n",
        "\n",
        "1.   Morosidad y Pérdidas Financieras\n",
        "2.   Evaluación de Riesgo Inexacta o Subjetiva\n",
        "3.   Injusticias y Discriminación en el Crédito\n",
        "4.   Desajuste en las Condiciones de Crédito\n",
        "5.   Falta de Visibilidad en el Comportamiento del Cliente\n",
        "6.   Ineficiencia en la Toma de Decisiones\n",
        "7.   Cumplimiento Normativo\n",
        "8.   Escalabilidad en la Evaluación de Riesgo\n",
        "9.   Desafíos de Integración de Nuevas Fuentes de Datos\n",
        "10.  Competencia y Presión del Mercado\n"
      ]
    },
    {
      "cell_type": "markdown",
      "metadata": {
        "id": "d09c63e5"
      },
      "source": [
        "### **1.2. Alcance**\n",
        "---\n",
        "\n",
        "- ¿Qué  solución se desea implementar?\n",
        "- ¿Cuáles son los límites y fronteras del proyecto de análisis de datos? ¿Qué aspectos específicos del negocio se incluirán y cuáles se excluyen en el alcance del proyecto?\n",
        "- ¿De qué forma el cliente o beneficiario utilizará el producto del proyecto?"
      ]
    },
    {
      "cell_type": "markdown",
      "metadata": {
        "id": "12e3be6b"
      },
      "source": [
        "### La solucion que se quiere implementar pretende responder a las siguientes preguntas despues del analisis:\n",
        "\n",
        "1. En qué grupos de ingresos se presentan los peores comportamientos de crédito?\n",
        "2. Cuál es la relación entre la cantidad del préstamo y el comportamiento crediticio?\n",
        "3. Cómo influye la propiedad de la vivienda en el comportamiento crediticio?\n",
        "4. La tasa de interés del préstamo afecta el comportamiento crediticio?\n",
        "5. Cómo afecta la antigüedad laboral al comportamiento de crédito?\n",
        "6. El propósito del crédito influye en el comportamiento de pago?\n",
        "7. En qué destinación del crédito están los mejores comportamientos?\n",
        "8. En qué edades están los peores comportamientos de crédito?\n",
        "9. En qué antigüedad del trabajo están los peores comportamientos de crédito?\n",
        "\n",
        "---\n",
        "\n",
        "### Límites del Proyecto.\n",
        "\n",
        "- El objetivo principal del análisis será evaluar y predecir el comportamiento crediticio de los solicitantes de crédito, basándose en las características del solicitante y las condiciones del préstamo.\n",
        "\n",
        "- Las predicciones de comportamiento crediticio se basarán en la identificación de patrones y relaciones entre las variables del dataset, como la edad, los ingresos, la antigüedad laboral, el tipo de préstamo y el estado del crédito.\n",
        "\n",
        "- El análisis se basará únicamente en las columnas presentes en el dataset, como: person_age, person_income, person_home_ownership, person_emp_length, loan_intent, loan_grade, loan_amnt, loan_status, etc.\n",
        "\n",
        "- No se incluirán variables adicionales que no estén presentes en el dataset (como datos de historial crediticio más detallados de otras fuentes externas, o datos que no se hayan recopilado en el dataset original).\n",
        "\n",
        "- El análisis se centrará en los datos presentes en el dataset actual (es decir, el periodo en el que los datos fueron recopilados y las fechas de las transacciones de crédito, si son relevantes).\n",
        "\n",
        "- No se incluirán datos futuros o escenarios proyectados (por ejemplo, simulaciones de cómo cambiarán los comportamientos en el futuro).\n",
        "\n",
        "---\n",
        "\n",
        "### Fronteras del Proyecto.\n",
        "\n",
        "El análisis se limitará a los datos disponibles (sin incluir fuentes externas), no abordará decisiones automatizadas o cambios operacionales, y no intentará predecir comportamientos futuros o modificar los datos.\n",
        "\n",
        "---\n",
        "\n",
        "### Aspectos Especificos Incluido.\n",
        "\n",
        "- Análisis del comportamiento crediticio en función de variables demográficas y socioeconómicas.\n",
        "- Segmentación de clientes basada en riesgos crediticios.\n",
        "- Identificación de patrones y tendencias en los datos de comportamiento crediticio.\n",
        "- Evaluación de los factores relacionados con el comportamiento de crédito.\n",
        "\n",
        "---\n",
        "\n",
        "### Aspectos Excluidos.\n",
        "\n",
        "- Creación de sistemas automatizados de scoring de crédito.\n",
        "- Recomendaciones operativas sobre políticas de crédito.\n",
        "- Comparaciones con mercados externos o diferentes datasets.\n",
        "- Desarrollo de software o sistemas de implementación en vivo.\n",
        "- Factores psicológicos o sociales no observables en los datos.\n",
        "\n",
        "---\n",
        "\n",
        "El cliente utilizará los insights del análisis para tomar decisiones más informadas, optimizar procesos internos, mejorar la rentabilidad y reducir el riesgo en sus operaciones financieras."
      ]
    },
    {
      "cell_type": "markdown",
      "metadata": {
        "id": "370e4a5d"
      },
      "source": [
        "### **1.3. Plan**\n",
        "---\n",
        "\n",
        "Puede agregar una lista de actividades con tiempos estimados, un diagrama de Gantt o integrar alguna herramienta de gestión de proyectos para mostrar la planeación del proyecto como [*Jira*](https://www.atlassian.com/software/jira?&aceid=&adposition=&adgroup=144583570757&campaign=19313283508&creative=641924587890&device=c&keyword=jira%20software%20online&matchtype=p&network=g&placement=&ds_kids=p74602877891&ds_e=GOOGLE&ds_eid=700000001558501&ds_e1=GOOGLE&gad_source=1&gclid=CjwKCAiAqNSsBhAvEiwAn_tmxStBdySS6RxbLNGXE0tWTeJc32ffjQD_1EXZvH6hmQkYZm5bTa3sgBoCX3oQAvD_BwE&gclsrc=aw.ds) o [*Trello*](https://trello.com/?&aceid=&adposition=&adgroup=144675712219&campaign=19250238609&creative=641300630637&device=c&keyword=trello&matchtype=e&network=g&placement=&ds_kids=p74526213668&ds_e=GOOGLE&ds_eid=700000001557344&ds_e1=GOOGLE&gad_source=1&gclid=CjwKCAiAqNSsBhAvEiwAn_tmxWW7Gdzf0Szf-mA-piM2GPM7tk8R0HsgpBALLGHNFq1-2xXMQbxB1RoCs-sQAvD_BwE&gclsrc=aw.ds)."
      ]
    },
    {
      "cell_type": "markdown",
      "metadata": {
        "id": "3b465355"
      },
      "source": [
        "### Plan\n",
        "\n",
        "Creamos un proyecto en GitHub para el manejo y versionamiento del codigo, tambien nos permite gestionar las actividades del proyecto\n",
        "\n",
        "> Link: [https://github.com/users/leonardogarzon/projects/2/views/1](https://github.com/users/leonardogarzon/projects/2/views/1)"
      ]
    },
    {
      "cell_type": "markdown",
      "metadata": {
        "id": "4a4e145b"
      },
      "source": [
        "## **2. Datos**\n",
        "---\n",
        "\n",
        "En esta sección debe adjuntar una descripción de los datos que planea trabajar. Por el momento no es obligatorio cargar los datos."
      ]
    },
    {
      "cell_type": "markdown",
      "metadata": {
        "id": "2c5f8274"
      },
      "source": [
        "### **2.1. Origen**\n",
        "---\n",
        "\n",
        "- ¿De dónde vienen los datos?\n",
        "- ¿Se usa alguna herramienta o proceso para la descarga de la información?\n",
        "- ¿Qué tipo de datos está manejando?"
      ]
    },
    {
      "cell_type": "markdown",
      "metadata": {
        "id": "7261ad96"
      },
      "source": [
        "### Origen de los datos.\n",
        "Los datos provienen de un dataset de Kaggle titulado \"Credit Risk Dataset\", el cual contiene información sobre el comportamiento crediticio de los solicitantes. Este conjunto de datos incluye 30000 registros con 12 variables que abarcan información demográfica, financiera y características del préstamo de cada solicitante.\n",
        "\n",
        "> Enlace al dataset: [Credit Risk Dataset en Kaggle](https://www.kaggle.com/datasets/laotse/credit-risk-dataset)\n",
        "\n",
        "---\n",
        "\n",
        "### Herramienta o Proceso de Descarga.\n",
        "\n",
        "Los datos fueron descargados directamente desde la plataforma de Kaggle en formato CSV. \n",
        "\n",
        "---\n",
        "\n",
        "### Tipo de Datos.\n",
        "\n",
        "El dataset contiene los siguientes campos:\n",
        "\n",
        "| Variable | Descripción | Tipo Variable |\n",
        "|----------|-------------|--------------|\n",
        "| person_age | Edad del solicitante | Numérico (entero) |\n",
        "| person_income | Ingreso anual | Numérico (entero) |\n",
        "| person_home_ownership | Tipo de propiedad de vivienda | Categórico |\n",
        "| person_emp_length | Antigüedad laboral (en años) | Numérico (entero) |\n",
        "| loan_intent | Propósito del préstamo | Categórico |\n",
        "| loan_grade | Calificación del préstamo | Categórico |\n",
        "| loan_amnt | Monto del préstamo | Numérico (entero) |\n",
        "| loan_int_rate | Tasa de interés | Numérico (Float) |\n",
        "| loan_status | Estado del préstamo (0 = no default, 1 = default) | Binario |\n",
        "| loan_percent_income | Porcentaje del ingreso destinado al préstamo | Numérico (Float) |\n",
        "| cb_person_default_on_file | Historial de incumplimientos | Categórico |\n",
        "| cb_preson_cred_hist_length | Longitud del historial crediticio | Numérico (entero) |\n",
        "\n",
        "---"
      ]
    },
    {
      "cell_type": "markdown",
      "metadata": {
        "id": "ceibuW1dNH9a"
      },
      "source": [
        "## **Créditos**\n",
        "* **Profesor:** [Felipe Restrepo Calle](https://dis.unal.edu.co/~ferestrepoca/)\n",
        "* **Asistentes docentes:**\n",
        "    - [Juan Sebastián Lara Ramírez](https://www.linkedin.com/in/juan-sebastian-lara-ramirez-43570a214/).\n",
        "* **Diseño de imágenes:**\n",
        "    - [Rosa Alejandra Superlano Esquibel](mailto:rsuperlano@unal.edu.co).\n",
        "* **Coordinador de virtualización:**\n",
        "    - [Edder Hernández Forero](https://www.linkedin.com/in/edder-hernandez-forero-28aa8b207/).\n",
        "    \n",
        "**Universidad Nacional de Colombia** - *Facultad de Ingeniería*"
      ]
    }
  ],
  "metadata": {
    "colab": {
      "provenance": []
    },
    "kernelspec": {
      "display_name": "Python 3",
      "name": "python3"
    },
    "language_info": {
      "name": "python"
    }
  },
  "nbformat": 4,
  "nbformat_minor": 0
}
