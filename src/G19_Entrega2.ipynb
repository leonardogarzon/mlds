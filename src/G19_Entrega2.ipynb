{
  "cells": [
    {
      "cell_type": "markdown",
      "metadata": {
        "id": "2qrgS_sCJquS"
      },
      "source": [
        "<img src = \"https://drive.google.com/uc?export=view&id=1vU_Lg5LD6Dn521znF_9E6OsJgwptOT9E\" alt = \"Encabezado MLDS\" width = \"100%\">  </img>"
      ]
    },
    {
      "cell_type": "markdown",
      "metadata": {
        "id": "a9669dfd"
      },
      "source": [
        "# **Entendimiento de los Datos**\n",
        "---\n",
        "\n",
        "Este notebook es una plantilla que le puede servir como guía para el segundo entregable del proyecto aplicado."
      ]
    },
    {
      "cell_type": "markdown",
      "metadata": {
        "id": "fdb4c33d"
      },
      "source": [
        "## **0. Integrantes del equipo de trabajo**\n",
        "---\n",
        "\n",
        "Por favor incluya los nombres completos y número de identificación de los integrantes del equipo de trabajo:"
      ]
    },
    {
      "cell_type": "markdown",
      "metadata": {
        "id": "ckNDI7ftUrpa"
      },
      "source": [
        "1. Jorge leonardo Garzon Castañeda \n",
        "   - 1032434194\n",
        "2. Ivan Dario Duque Molina\n",
        "   - 79656996\n",
        "3. Daniel Francisco Sanchez Hernandez\n",
        "   - 1073168523\n",
        "\n",
        "\n",
        "\n",
        "\n",
        "## Actualizacion obgetivo general\n",
        "\n",
        "El objetivo general del proyecto es utilizar el dataset para desarrollar servicios expuestos a través de una API REST. Esta API permitirá a las instalaciones de los clientes responder preguntas clave sobre el comportamiento crediticio, tales como:\n",
        "\n",
        "- ¿En qué grupos de ingresos se presentan los peores comportamientos de crédito?\n",
        "\n",
        "- ¿Cuál es la relación entre el monto del préstamo y el comportamiento crediticio?\n",
        "\n",
        "- ¿Cómo influye la propiedad de la vivienda en el comportamiento crediticio?\n",
        "\n",
        "- ¿La tasa de interés del préstamo afecta el comportamiento crediticio?\n",
        "\n",
        "- ¿Cómo impacta la antigüedad laboral en el comportamiento de crédito?\n",
        "\n",
        "- ¿El propósito del crédito influye en el comportamiento de pago?\n",
        "\n",
        "- ¿En qué destino del crédito se observan los mejores comportamientos?\n",
        "\n",
        "- ¿En qué rangos de edad se presentan los peores comportamientos de crédito?\n",
        "\n",
        "- ¿En qué niveles de antigüedad laboral se registran los peores comportamientos de crédito?\n",
        "\n",
        "Cabe destacar que los clientes ya cuentan con una plataforma encargada de capturar y normalizar los datos."
      ]
    },
    {
      "cell_type": "markdown",
      "metadata": {
        "id": "qG-gA0MvzMTA"
      },
      "source": [
        "## **1. Carga de datos**\n",
        "---\n",
        "Proporcione únicamente el código de Python necesario para descargar el conjunto de datos que será utilizado en el proyecto. Si es necesario, realice operaciones de adquisición e integración del conjunto de datos."
      ]
    },
    {
      "cell_type": "code",
      "execution_count": null,
      "metadata": {},
      "outputs": [],
      "source": [
        "# Enlace de descarga del dataset\n",
        "https://www.kaggle.com/api/v1/datasets/download/laotse/credit-risk-dataset"
      ]
    },
    {
      "cell_type": "code",
      "execution_count": 14,
      "metadata": {
        "id": "FxykiJtCzQl2"
      },
      "outputs": [],
      "source": [
        "\n",
        "import pandas as pd\n",
        "import numpy as np\n",
        "import scipy.stats as stats\n",
        "\n",
        "\n",
        "load_df = pd.read_csv('credit_risk_dataset.csv')\n",
        "\n",
        "df = load_df.copy()\n",
        "\n",
        "rename = {\n",
        "    'person_age': 'edad',\n",
        "    'person_income': 'ingreso_anual',\n",
        "    'person_home_ownership': 'tipo_vivienda',\n",
        "    'person_emp_length': 'antiguedad_laboral',\n",
        "    'loan_intent': 'proposito_prestamo',\n",
        "    'loan_grade': 'calificacion_prestamo',\n",
        "    'loan_amnt': 'monto_prestamo',\n",
        "    'loan_int_rate': 'tasa_interes',\n",
        "    'loan_status': 'estado_prestamo',\n",
        "    'loan_percent_income': 'porcentaje_ingreso_prestamo',\n",
        "    'cb_person_default_on_file': 'historial_incumplimientos',\n",
        "    'cb_person_cred_hist_length': 'longitud_historial_crediticio'\n",
        "}\n",
        "\n",
        "df = df.rename(columns=rename)"
      ]
    },
    {
      "cell_type": "markdown",
      "metadata": {
        "id": "f6de2158"
      },
      "source": [
        "## **2. Análisis Exploratorio de los Datos**\n",
        "---\n",
        "\n",
        "Normalmente en el análisis exploratorio, se trata de dar respuesta a los siguientes elementos:"
      ]
    },
    {
      "cell_type": "markdown",
      "metadata": {
        "id": "20031c7b"
      },
      "source": [
        "### **2.1. Resumen General**\n",
        "---\n",
        "\n",
        "- ¿Cuántos registros contiene el *dataset*?\n",
        "- ¿En qué formato están guardados los datos?\n",
        "- ¿Qué tamaño en MB tiene el conjunto de datos?"
      ]
    },
    {
      "cell_type": "code",
      "execution_count": 3,
      "metadata": {
        "id": "bCmgIRrcX3XC"
      },
      "outputs": [
        {
          "name": "stdout",
          "output_type": "stream",
          "text": [
            "El dataset contiene 32581 registros\n"
          ]
        }
      ],
      "source": [
        "# ¿Cuántos registros contiene el *dataset*?\n",
        "print(f\"El dataset contiene {len(df)} registros\")\n"
      ]
    },
    {
      "cell_type": "code",
      "execution_count": 4,
      "metadata": {},
      "outputs": [
        {
          "name": "stdout",
          "output_type": "stream",
          "text": [
            "<class 'pandas.core.frame.DataFrame'>\n",
            "RangeIndex: 32581 entries, 0 to 32580\n",
            "Data columns (total 12 columns):\n",
            " #   Column                         Non-Null Count  Dtype  \n",
            "---  ------                         --------------  -----  \n",
            " 0   edad                           32581 non-null  int64  \n",
            " 1   ingreso_anual                  32581 non-null  int64  \n",
            " 2   tipo_vivienda                  32581 non-null  object \n",
            " 3   antiguedad_laboral             31686 non-null  float64\n",
            " 4   proposito_prestamo             32581 non-null  object \n",
            " 5   calificacion_prestamo          32581 non-null  object \n",
            " 6   monto_prestamo                 32581 non-null  int64  \n",
            " 7   tasa_interes                   29465 non-null  float64\n",
            " 8   estado_prestamo                32581 non-null  int64  \n",
            " 9   porcentaje_ingreso_prestamo    32581 non-null  float64\n",
            " 10  historial_incumplimientos      32581 non-null  object \n",
            " 11  longitud_historial_crediticio  32581 non-null  int64  \n",
            "dtypes: float64(3), int64(5), object(4)\n",
            "memory usage: 3.0+ MB\n",
            "Formato de los datos: None\n"
          ]
        }
      ],
      "source": [
        "# ¿En qué formato están guardados los datos?\n",
        "print(f\"Formato de los datos: {df.info()}\")"
      ]
    },
    {
      "cell_type": "code",
      "execution_count": 5,
      "metadata": {},
      "outputs": [
        {
          "name": "stdout",
          "output_type": "stream",
          "text": [
            "Tamaño del dataset: 8.63 MB\n"
          ]
        }
      ],
      "source": [
        "# ¿Qué tamaño en MB tiene el conjunto de datos?\n",
        "tamano_en_bytes = df.memory_usage(deep=True).sum()\n",
        "memoria_mb = tamano_en_bytes / (1024 * 1024)\n",
        "print(f\"Tamaño del dataset: {memoria_mb:.2f} MB\")"
      ]
    },
    {
      "cell_type": "markdown",
      "metadata": {
        "id": "vz2WlImOY7wl"
      },
      "source": [
        "### **2.2. Análisis estadístico descriptivo**\n",
        "---\n",
        "\n",
        "Describa el conjunto de datos por medio de estadística descriptiva, aportando interpretaciones precisas que ayuden a entender los datos."
      ]
    },
    {
      "cell_type": "code",
      "execution_count": 7,
      "metadata": {
        "id": "OxNu8JnAY7wm"
      },
      "outputs": [
        {
          "name": "stdout",
          "output_type": "stream",
          "text": [
            "Estadísticas de variables numéricas:\n"
          ]
        },
        {
          "data": {
            "text/html": [
              "<div>\n",
              "<style scoped>\n",
              "    .dataframe tbody tr th:only-of-type {\n",
              "        vertical-align: middle;\n",
              "    }\n",
              "\n",
              "    .dataframe tbody tr th {\n",
              "        vertical-align: top;\n",
              "    }\n",
              "\n",
              "    .dataframe thead th {\n",
              "        text-align: right;\n",
              "    }\n",
              "</style>\n",
              "<table border=\"1\" class=\"dataframe\">\n",
              "  <thead>\n",
              "    <tr style=\"text-align: right;\">\n",
              "      <th></th>\n",
              "      <th>count</th>\n",
              "      <th>mean</th>\n",
              "      <th>std</th>\n",
              "      <th>min</th>\n",
              "      <th>25%</th>\n",
              "      <th>50%</th>\n",
              "      <th>75%</th>\n",
              "      <th>max</th>\n",
              "      <th>missing</th>\n",
              "      <th>missing_percent</th>\n",
              "    </tr>\n",
              "  </thead>\n",
              "  <tbody>\n",
              "    <tr>\n",
              "      <th>edad</th>\n",
              "      <td>32581.0</td>\n",
              "      <td>27.734600</td>\n",
              "      <td>6.348078</td>\n",
              "      <td>20.00</td>\n",
              "      <td>23.00</td>\n",
              "      <td>26.00</td>\n",
              "      <td>30.00</td>\n",
              "      <td>144.00</td>\n",
              "      <td>0</td>\n",
              "      <td>0.000000</td>\n",
              "    </tr>\n",
              "    <tr>\n",
              "      <th>ingreso_anual</th>\n",
              "      <td>32581.0</td>\n",
              "      <td>66074.848470</td>\n",
              "      <td>61983.119168</td>\n",
              "      <td>4000.00</td>\n",
              "      <td>38500.00</td>\n",
              "      <td>55000.00</td>\n",
              "      <td>79200.00</td>\n",
              "      <td>6000000.00</td>\n",
              "      <td>0</td>\n",
              "      <td>0.000000</td>\n",
              "    </tr>\n",
              "    <tr>\n",
              "      <th>antiguedad_laboral</th>\n",
              "      <td>31686.0</td>\n",
              "      <td>4.789686</td>\n",
              "      <td>4.142630</td>\n",
              "      <td>0.00</td>\n",
              "      <td>2.00</td>\n",
              "      <td>4.00</td>\n",
              "      <td>7.00</td>\n",
              "      <td>123.00</td>\n",
              "      <td>895</td>\n",
              "      <td>2.747000</td>\n",
              "    </tr>\n",
              "    <tr>\n",
              "      <th>monto_prestamo</th>\n",
              "      <td>32581.0</td>\n",
              "      <td>9589.371106</td>\n",
              "      <td>6322.086646</td>\n",
              "      <td>500.00</td>\n",
              "      <td>5000.00</td>\n",
              "      <td>8000.00</td>\n",
              "      <td>12200.00</td>\n",
              "      <td>35000.00</td>\n",
              "      <td>0</td>\n",
              "      <td>0.000000</td>\n",
              "    </tr>\n",
              "    <tr>\n",
              "      <th>tasa_interes</th>\n",
              "      <td>29465.0</td>\n",
              "      <td>11.011695</td>\n",
              "      <td>3.240459</td>\n",
              "      <td>5.42</td>\n",
              "      <td>7.90</td>\n",
              "      <td>10.99</td>\n",
              "      <td>13.47</td>\n",
              "      <td>23.22</td>\n",
              "      <td>3116</td>\n",
              "      <td>9.563856</td>\n",
              "    </tr>\n",
              "    <tr>\n",
              "      <th>estado_prestamo</th>\n",
              "      <td>32581.0</td>\n",
              "      <td>0.218164</td>\n",
              "      <td>0.413006</td>\n",
              "      <td>0.00</td>\n",
              "      <td>0.00</td>\n",
              "      <td>0.00</td>\n",
              "      <td>0.00</td>\n",
              "      <td>1.00</td>\n",
              "      <td>0</td>\n",
              "      <td>0.000000</td>\n",
              "    </tr>\n",
              "    <tr>\n",
              "      <th>porcentaje_ingreso_prestamo</th>\n",
              "      <td>32581.0</td>\n",
              "      <td>0.170203</td>\n",
              "      <td>0.106782</td>\n",
              "      <td>0.00</td>\n",
              "      <td>0.09</td>\n",
              "      <td>0.15</td>\n",
              "      <td>0.23</td>\n",
              "      <td>0.83</td>\n",
              "      <td>0</td>\n",
              "      <td>0.000000</td>\n",
              "    </tr>\n",
              "    <tr>\n",
              "      <th>longitud_historial_crediticio</th>\n",
              "      <td>32581.0</td>\n",
              "      <td>5.804211</td>\n",
              "      <td>4.055001</td>\n",
              "      <td>2.00</td>\n",
              "      <td>3.00</td>\n",
              "      <td>4.00</td>\n",
              "      <td>8.00</td>\n",
              "      <td>30.00</td>\n",
              "      <td>0</td>\n",
              "      <td>0.000000</td>\n",
              "    </tr>\n",
              "  </tbody>\n",
              "</table>\n",
              "</div>"
            ],
            "text/plain": [
              "                                 count          mean           std      min  \\\n",
              "edad                           32581.0     27.734600      6.348078    20.00   \n",
              "ingreso_anual                  32581.0  66074.848470  61983.119168  4000.00   \n",
              "antiguedad_laboral             31686.0      4.789686      4.142630     0.00   \n",
              "monto_prestamo                 32581.0   9589.371106   6322.086646   500.00   \n",
              "tasa_interes                   29465.0     11.011695      3.240459     5.42   \n",
              "estado_prestamo                32581.0      0.218164      0.413006     0.00   \n",
              "porcentaje_ingreso_prestamo    32581.0      0.170203      0.106782     0.00   \n",
              "longitud_historial_crediticio  32581.0      5.804211      4.055001     2.00   \n",
              "\n",
              "                                    25%       50%       75%         max  \\\n",
              "edad                              23.00     26.00     30.00      144.00   \n",
              "ingreso_anual                  38500.00  55000.00  79200.00  6000000.00   \n",
              "antiguedad_laboral                 2.00      4.00      7.00      123.00   \n",
              "monto_prestamo                  5000.00   8000.00  12200.00    35000.00   \n",
              "tasa_interes                       7.90     10.99     13.47       23.22   \n",
              "estado_prestamo                    0.00      0.00      0.00        1.00   \n",
              "porcentaje_ingreso_prestamo        0.09      0.15      0.23        0.83   \n",
              "longitud_historial_crediticio      3.00      4.00      8.00       30.00   \n",
              "\n",
              "                               missing  missing_percent  \n",
              "edad                                 0         0.000000  \n",
              "ingreso_anual                        0         0.000000  \n",
              "antiguedad_laboral                 895         2.747000  \n",
              "monto_prestamo                       0         0.000000  \n",
              "tasa_interes                      3116         9.563856  \n",
              "estado_prestamo                      0         0.000000  \n",
              "porcentaje_ingreso_prestamo          0         0.000000  \n",
              "longitud_historial_crediticio        0         0.000000  "
            ]
          },
          "metadata": {},
          "output_type": "display_data"
        },
        {
          "name": "stdout",
          "output_type": "stream",
          "text": [
            "\n",
            "Distribución de tipo_vivienda:\n"
          ]
        },
        {
          "data": {
            "text/html": [
              "<div>\n",
              "<style scoped>\n",
              "    .dataframe tbody tr th:only-of-type {\n",
              "        vertical-align: middle;\n",
              "    }\n",
              "\n",
              "    .dataframe tbody tr th {\n",
              "        vertical-align: top;\n",
              "    }\n",
              "\n",
              "    .dataframe thead th {\n",
              "        text-align: right;\n",
              "    }\n",
              "</style>\n",
              "<table border=\"1\" class=\"dataframe\">\n",
              "  <thead>\n",
              "    <tr style=\"text-align: right;\">\n",
              "      <th></th>\n",
              "      <th>cantidad</th>\n",
              "      <th>porcentaje</th>\n",
              "    </tr>\n",
              "    <tr>\n",
              "      <th>tipo_vivienda</th>\n",
              "      <th></th>\n",
              "      <th></th>\n",
              "    </tr>\n",
              "  </thead>\n",
              "  <tbody>\n",
              "    <tr>\n",
              "      <th>RENT</th>\n",
              "      <td>16446</td>\n",
              "      <td>50.477272</td>\n",
              "    </tr>\n",
              "    <tr>\n",
              "      <th>MORTGAGE</th>\n",
              "      <td>13444</td>\n",
              "      <td>41.263313</td>\n",
              "    </tr>\n",
              "    <tr>\n",
              "      <th>OWN</th>\n",
              "      <td>2584</td>\n",
              "      <td>7.931003</td>\n",
              "    </tr>\n",
              "    <tr>\n",
              "      <th>OTHER</th>\n",
              "      <td>107</td>\n",
              "      <td>0.328412</td>\n",
              "    </tr>\n",
              "  </tbody>\n",
              "</table>\n",
              "</div>"
            ],
            "text/plain": [
              "               cantidad  porcentaje\n",
              "tipo_vivienda                      \n",
              "RENT              16446   50.477272\n",
              "MORTGAGE          13444   41.263313\n",
              "OWN                2584    7.931003\n",
              "OTHER               107    0.328412"
            ]
          },
          "metadata": {},
          "output_type": "display_data"
        },
        {
          "name": "stdout",
          "output_type": "stream",
          "text": [
            "\n",
            "Distribución de proposito_prestamo:\n"
          ]
        },
        {
          "data": {
            "text/html": [
              "<div>\n",
              "<style scoped>\n",
              "    .dataframe tbody tr th:only-of-type {\n",
              "        vertical-align: middle;\n",
              "    }\n",
              "\n",
              "    .dataframe tbody tr th {\n",
              "        vertical-align: top;\n",
              "    }\n",
              "\n",
              "    .dataframe thead th {\n",
              "        text-align: right;\n",
              "    }\n",
              "</style>\n",
              "<table border=\"1\" class=\"dataframe\">\n",
              "  <thead>\n",
              "    <tr style=\"text-align: right;\">\n",
              "      <th></th>\n",
              "      <th>cantidad</th>\n",
              "      <th>porcentaje</th>\n",
              "    </tr>\n",
              "    <tr>\n",
              "      <th>proposito_prestamo</th>\n",
              "      <th></th>\n",
              "      <th></th>\n",
              "    </tr>\n",
              "  </thead>\n",
              "  <tbody>\n",
              "    <tr>\n",
              "      <th>EDUCATION</th>\n",
              "      <td>6453</td>\n",
              "      <td>19.806022</td>\n",
              "    </tr>\n",
              "    <tr>\n",
              "      <th>MEDICAL</th>\n",
              "      <td>6071</td>\n",
              "      <td>18.633559</td>\n",
              "    </tr>\n",
              "    <tr>\n",
              "      <th>VENTURE</th>\n",
              "      <td>5719</td>\n",
              "      <td>17.553175</td>\n",
              "    </tr>\n",
              "    <tr>\n",
              "      <th>PERSONAL</th>\n",
              "      <td>5521</td>\n",
              "      <td>16.945459</td>\n",
              "    </tr>\n",
              "    <tr>\n",
              "      <th>DEBTCONSOLIDATION</th>\n",
              "      <td>5212</td>\n",
              "      <td>15.997053</td>\n",
              "    </tr>\n",
              "    <tr>\n",
              "      <th>HOMEIMPROVEMENT</th>\n",
              "      <td>3605</td>\n",
              "      <td>11.064731</td>\n",
              "    </tr>\n",
              "  </tbody>\n",
              "</table>\n",
              "</div>"
            ],
            "text/plain": [
              "                    cantidad  porcentaje\n",
              "proposito_prestamo                      \n",
              "EDUCATION               6453   19.806022\n",
              "MEDICAL                 6071   18.633559\n",
              "VENTURE                 5719   17.553175\n",
              "PERSONAL                5521   16.945459\n",
              "DEBTCONSOLIDATION       5212   15.997053\n",
              "HOMEIMPROVEMENT         3605   11.064731"
            ]
          },
          "metadata": {},
          "output_type": "display_data"
        },
        {
          "name": "stdout",
          "output_type": "stream",
          "text": [
            "\n",
            "Distribución de calificacion_prestamo:\n"
          ]
        },
        {
          "data": {
            "text/html": [
              "<div>\n",
              "<style scoped>\n",
              "    .dataframe tbody tr th:only-of-type {\n",
              "        vertical-align: middle;\n",
              "    }\n",
              "\n",
              "    .dataframe tbody tr th {\n",
              "        vertical-align: top;\n",
              "    }\n",
              "\n",
              "    .dataframe thead th {\n",
              "        text-align: right;\n",
              "    }\n",
              "</style>\n",
              "<table border=\"1\" class=\"dataframe\">\n",
              "  <thead>\n",
              "    <tr style=\"text-align: right;\">\n",
              "      <th></th>\n",
              "      <th>cantidad</th>\n",
              "      <th>porcentaje</th>\n",
              "    </tr>\n",
              "    <tr>\n",
              "      <th>calificacion_prestamo</th>\n",
              "      <th></th>\n",
              "      <th></th>\n",
              "    </tr>\n",
              "  </thead>\n",
              "  <tbody>\n",
              "    <tr>\n",
              "      <th>A</th>\n",
              "      <td>10777</td>\n",
              "      <td>33.077561</td>\n",
              "    </tr>\n",
              "    <tr>\n",
              "      <th>B</th>\n",
              "      <td>10451</td>\n",
              "      <td>32.076977</td>\n",
              "    </tr>\n",
              "    <tr>\n",
              "      <th>C</th>\n",
              "      <td>6458</td>\n",
              "      <td>19.821368</td>\n",
              "    </tr>\n",
              "    <tr>\n",
              "      <th>D</th>\n",
              "      <td>3626</td>\n",
              "      <td>11.129186</td>\n",
              "    </tr>\n",
              "    <tr>\n",
              "      <th>E</th>\n",
              "      <td>964</td>\n",
              "      <td>2.958780</td>\n",
              "    </tr>\n",
              "    <tr>\n",
              "      <th>F</th>\n",
              "      <td>241</td>\n",
              "      <td>0.739695</td>\n",
              "    </tr>\n",
              "    <tr>\n",
              "      <th>G</th>\n",
              "      <td>64</td>\n",
              "      <td>0.196434</td>\n",
              "    </tr>\n",
              "  </tbody>\n",
              "</table>\n",
              "</div>"
            ],
            "text/plain": [
              "                       cantidad  porcentaje\n",
              "calificacion_prestamo                      \n",
              "A                         10777   33.077561\n",
              "B                         10451   32.076977\n",
              "C                          6458   19.821368\n",
              "D                          3626   11.129186\n",
              "E                           964    2.958780\n",
              "F                           241    0.739695\n",
              "G                            64    0.196434"
            ]
          },
          "metadata": {},
          "output_type": "display_data"
        },
        {
          "name": "stdout",
          "output_type": "stream",
          "text": [
            "\n",
            "Distribución de historial_incumplimientos:\n"
          ]
        },
        {
          "data": {
            "text/html": [
              "<div>\n",
              "<style scoped>\n",
              "    .dataframe tbody tr th:only-of-type {\n",
              "        vertical-align: middle;\n",
              "    }\n",
              "\n",
              "    .dataframe tbody tr th {\n",
              "        vertical-align: top;\n",
              "    }\n",
              "\n",
              "    .dataframe thead th {\n",
              "        text-align: right;\n",
              "    }\n",
              "</style>\n",
              "<table border=\"1\" class=\"dataframe\">\n",
              "  <thead>\n",
              "    <tr style=\"text-align: right;\">\n",
              "      <th></th>\n",
              "      <th>cantidad</th>\n",
              "      <th>porcentaje</th>\n",
              "    </tr>\n",
              "    <tr>\n",
              "      <th>historial_incumplimientos</th>\n",
              "      <th></th>\n",
              "      <th></th>\n",
              "    </tr>\n",
              "  </thead>\n",
              "  <tbody>\n",
              "    <tr>\n",
              "      <th>N</th>\n",
              "      <td>26836</td>\n",
              "      <td>82.367024</td>\n",
              "    </tr>\n",
              "    <tr>\n",
              "      <th>Y</th>\n",
              "      <td>5745</td>\n",
              "      <td>17.632976</td>\n",
              "    </tr>\n",
              "  </tbody>\n",
              "</table>\n",
              "</div>"
            ],
            "text/plain": [
              "                           cantidad  porcentaje\n",
              "historial_incumplimientos                      \n",
              "N                             26836   82.367024\n",
              "Y                              5745   17.632976"
            ]
          },
          "metadata": {},
          "output_type": "display_data"
        },
        {
          "name": "stdout",
          "output_type": "stream",
          "text": [
            "\n",
            "Distribución de estado_prestamo:\n"
          ]
        },
        {
          "data": {
            "text/html": [
              "<div>\n",
              "<style scoped>\n",
              "    .dataframe tbody tr th:only-of-type {\n",
              "        vertical-align: middle;\n",
              "    }\n",
              "\n",
              "    .dataframe tbody tr th {\n",
              "        vertical-align: top;\n",
              "    }\n",
              "\n",
              "    .dataframe thead th {\n",
              "        text-align: right;\n",
              "    }\n",
              "</style>\n",
              "<table border=\"1\" class=\"dataframe\">\n",
              "  <thead>\n",
              "    <tr style=\"text-align: right;\">\n",
              "      <th></th>\n",
              "      <th>cantidad</th>\n",
              "      <th>perporcentajecent</th>\n",
              "    </tr>\n",
              "    <tr>\n",
              "      <th>estado_prestamo</th>\n",
              "      <th></th>\n",
              "      <th></th>\n",
              "    </tr>\n",
              "  </thead>\n",
              "  <tbody>\n",
              "    <tr>\n",
              "      <th>0</th>\n",
              "      <td>25473</td>\n",
              "      <td>78.183604</td>\n",
              "    </tr>\n",
              "    <tr>\n",
              "      <th>1</th>\n",
              "      <td>7108</td>\n",
              "      <td>21.816396</td>\n",
              "    </tr>\n",
              "  </tbody>\n",
              "</table>\n",
              "</div>"
            ],
            "text/plain": [
              "                 cantidad  perporcentajecent\n",
              "estado_prestamo                             \n",
              "0                   25473          78.183604\n",
              "1                    7108          21.816396"
            ]
          },
          "metadata": {},
          "output_type": "display_data"
        }
      ],
      "source": [
        "# Estadisticas de variables numéricas\n",
        "numeric_stats = df.describe().T\n",
        "numeric_stats['missing'] = df.isnull().sum()\n",
        "numeric_stats['missing_percent'] = (df.isnull().sum() / len(df)) * 100\n",
        "\n",
        "\n",
        "print(\"Estadísticas de variables numéricas:\")\n",
        "display(numeric_stats)\n",
        "\n",
        "# Variables categóricas\n",
        "categorical_cols = df.select_dtypes(include=['object']).columns\n",
        "categorical_stats = pd.DataFrame()\n",
        "\n",
        "for col in categorical_cols:\n",
        "    value_counts = df[col].value_counts()\n",
        "    value_percent = df[col].value_counts(normalize=True) * 100\n",
        "    stats = pd.DataFrame({\n",
        "        'cantidad': value_counts,\n",
        "        'porcentaje': value_percent\n",
        "    })\n",
        "    print(f\"\\nDistribución de {col}:\")\n",
        "    display(stats)\n",
        "\n",
        "# Distribución de estado_prestamo\n",
        "print(\"\\nDistribución de estado_prestamo:\")\n",
        "loan_status_dist = df['estado_prestamo'].value_counts()\n",
        "loan_status_percent = df['estado_prestamo'].value_counts(normalize=True) * 100\n",
        "display(pd.DataFrame({\n",
        "    'cantidad': loan_status_dist,\n",
        "    'perporcentajecent': loan_status_percent\n",
        "}))\n",
        "\n"
      ]
    },
    {
      "cell_type": "markdown",
      "metadata": {
        "id": "447ad6f5"
      },
      "source": [
        "### **2.3. Resumen de la Calidad de los datos**\n",
        "---\n",
        "\n",
        "- ¿Se detecta la ausencia de datos, la presencia de datos erróneos o la existencia de datos de baja calidad en el conjunto?\n",
        "- ¿Se identifican registros con datos ilegibles o con dificultades de codificación durante la revisión del conjunto de datos?\n",
        "- ¿Se observa una diversidad de formatos en el conjunto de datos que pueda dificultar su consistencia o comprensión?\n",
        "- ¿Se identificaron y abordaron posibles problemas, como valores atípicos, duplicados o datos faltantes?"
      ]
    },
    {
      "cell_type": "markdown",
      "metadata": {},
      "source": [
        "#### Respuestas\n",
        "1. ¿Se detecta la ausencia de datos, la presencia de datos erróneos o la existencia de datos de baja calidad en el conjunto?\n",
        "\n",
        "    - Se econtraron edades superiores a 105 años\n",
        "    - Se encontraron registros con antigüedad laboral 123 años\n",
        "\n",
        "2. ¿Se identifican registros con datos ilegibles o con dificultades de codificación durante la revisión del conjunto de datos?\n",
        "\n",
        "    - No se encontraron registros ilegibles en la validacion de las columnas categoricas.\n",
        "    - No se encontraron caracteres extraños en las columnas numericas y texto,\n",
        "\n",
        "3. ¿Se observa una diversidad de formatos en el conjunto de datos que pueda dificultar su consistencia o comprensión?\n",
        "\n",
        "    - Valores atípicos en edad 100: 5\n",
        "    - Valores extremadamente altos en antigüedad laboral mayor a 50: 2\n",
        "\n",
        "4. ¿Se identificaron y abordaron posibles problemas, como valores atípicos, duplicados o datos faltantes?\n",
        "\n",
        "    - tasa_interes y antigüedad laboral contienen valores nulos\n",
        "    - se encontraron 165 registros duplicados "
      ]
    },
    {
      "cell_type": "code",
      "execution_count": 8,
      "metadata": {
        "id": "L7u_cP_tX5G7"
      },
      "outputs": [
        {
          "name": "stdout",
          "output_type": "stream",
          "text": [
            "Valores de porcentaje_ingreso_prestamo posiblemente en formato incorrecto (> 1): 0\n",
            "\n",
            "\n",
            "Verificación de formatos en tasas y porcentajes:\n",
            "- Valores de tasa_interes posiblemente en formato decimal (< 1): 0\n",
            "\n",
            "\n",
            "Verificación de valores ilógicos:\n",
            "- Edades negativas: 0\n",
            "- Edades muy altas (>100): 5\n",
            "- Ingresos anuales negativos: 0\n",
            "- Antigüedad laboral negativa: 0\n"
          ]
        }
      ],
      "source": [
        "# ¿Se detecta la ausencia de datos, la presencia de datos erróneos o la existencia de datos de baja calidad en el conjunto?\n",
        "\n",
        "# Valores de porcentaje_ingreso_prestamo posiblemente en formato incorrecto\n",
        "porcentaje_decimal = (df['porcentaje_ingreso_prestamo'] > 1).sum()\n",
        "print(f\"Valores de porcentaje_ingreso_prestamo posiblemente en formato incorrecto (> 1): {porcentaje_decimal}\")\n",
        "print(\"\\n\")\n",
        "\n",
        "# Verificar formato incorrecto o inconsistente en tasas y porcentajes\n",
        "print(\"Verificación de formatos en tasas y porcentajes:\")\n",
        "\n",
        "tasa_decimal = (df['tasa_interes'] < 1).sum()\n",
        "print(f\"- Valores de tasa_interes posiblemente en formato decimal (< 1): {tasa_decimal}\")\n",
        "print(\"\\n\")\n",
        "\n",
        "# Verificar valores ilógicos o inconsistentes\n",
        "print(\"Verificación de valores ilógicos:\")\n",
        "print(f\"- Edades negativas: {len(df[df['edad'] < 0])}\")\n",
        "print(f\"- Edades muy altas (>100): {len(df[df['edad'] > 105])}\")\n",
        "print(f\"- Ingresos anuales negativos: {len(df[df['ingreso_anual'] <= 0])}\")\n",
        "print(f\"- Antigüedad laboral negativa: {len(df[df['antiguedad_laboral'] < 0])}\")\n"
      ]
    },
    {
      "cell_type": "code",
      "execution_count": 9,
      "metadata": {},
      "outputs": [
        {
          "name": "stdout",
          "output_type": "stream",
          "text": [
            "Problemas en campos de texto:\n",
            "- Caracteres inusuales en tipo_vivienda: 0\n",
            "- Caracteres inusuales en proposito_prestamo: 0\n",
            "- Caracteres inusuales en calificacion_prestamo: 0\n",
            "- Caracteres inusuales en historial_incumplimientos: 0\n",
            "\n",
            "\n",
            "Verificando variables categóricas:\n",
            "Valores en tipo_vivienda:\n",
            "['RENT' 'OWN' 'MORTGAGE' 'OTHER']\n",
            "\n",
            "\n",
            "Valores en proposito_prestamo:\n",
            "['PERSONAL' 'EDUCATION' 'MEDICAL' 'VENTURE' 'HOMEIMPROVEMENT'\n",
            " 'DEBTCONSOLIDATION']\n",
            "\n",
            "\n",
            "Valores en calificacion_prestamo:\n",
            "['D' 'B' 'C' 'A' 'E' 'F' 'G']\n",
            "\n",
            "\n",
            "Valores en historial_incumplimientos:\n",
            "['Y' 'N']\n",
            "\n",
            "\n"
          ]
        }
      ],
      "source": [
        "# ¿Se identifican registros con datos ilegibles o con dificultades de codificación durante la revisión del conjunto de datos?\n",
        "\n",
        "# Verificación de problemas de codificación en campos de texto\n",
        "print(\"Problemas en campos de texto:\")\n",
        "for col in categorical_cols:\n",
        "    # Buscar caracteres extraños o problemas de codificación\n",
        "    unusual_chars = df[col].astype(str).str.contains('[^\\\\w\\\\s\\\\-]', regex=True).sum()\n",
        "    print(f\"- Caracteres inusuales en {col}: {unusual_chars}\")\n",
        "\n",
        "print(\"\\n\")\n",
        "\n",
        "# Verificar la estructura de valores en variables categóricas\n",
        "print(\"Verificando variables categóricas:\")\n",
        "for col in categorical_cols:\n",
        "    # Mostrar valores únicos para verificar consistencia\n",
        "    print(f\"Valores en {col}:\")\n",
        "    print(df[col].unique())\n",
        "    print(\"\\n\")\n",
        "    # Verificar si hay espacios en blanco al inicio o final que pueden causar problemas\n",
        "    espacios_problematicos = df[col].str.strip().ne(df[col]).sum() if df[col].dtype == 'object' else 0\n",
        "    if espacios_problematicos > 0:\n",
        "        print(f\"- {espacios_problematicos} valores con espacios problemáticos en {col}\")\n",
        "\n"
      ]
    },
    {
      "cell_type": "code",
      "execution_count": 10,
      "metadata": {},
      "outputs": [
        {
          "name": "stdout",
          "output_type": "stream",
          "text": [
            "Análisis de formatos en variables numéricas:\n",
            "\n",
            "\n",
            "Verificación de rangos de valores:\n",
            "- Edad: 20 a 144 años\n",
            "- Antigüedad laboral: 0.0 a 123.0 años\n",
            "- Tasa de interés: 5.42 a 23.22%\n",
            "- Ingreso anual: $4000 a $6000000\n",
            "\n",
            "\n",
            "Problemas de escala en variables numéricas:\n",
            "- Valores atípicos en edad (>100): 5\n",
            "- Valores extremadamente altos en antigüedad laboral (>50): 2\n",
            "\n",
            "\n"
          ]
        }
      ],
      "source": [
        "# ¿Se observa una diversidad de formatos en el conjunto de datos que pueda dificultar su consistencia o comprensión?\n",
        "\n",
        "# Verificación de formatos en las variables numéricas\n",
        "print(\"Análisis de formatos en variables numéricas:\")\n",
        "print(\"\\n\")\n",
        "\n",
        "# Verificar si el rango de valores parece coherente\n",
        "print(\"Verificación de rangos de valores:\")\n",
        "print(f\"- Edad: {df['edad'].min()} a {df['edad'].max()} años\")\n",
        "print(f\"- Antigüedad laboral: {df['antiguedad_laboral'].min()} a {df['antiguedad_laboral'].max()} años\")\n",
        "print(f\"- Tasa de interés: {df['tasa_interes'].min()} a {df['tasa_interes'].max()}%\")\n",
        "print(f\"- Ingreso anual: ${df['ingreso_anual'].min()} a ${df['ingreso_anual'].max()}\")\n",
        "print(\"\\n\")\n",
        "\n",
        "\n",
        "\n",
        "# Identificar posibles problemas de escala en variables numéricas\n",
        "print(\"Problemas de escala en variables numéricas:\")\n",
        "print(f\"- Valores atípicos en edad (>100): {len(df[df['edad'] > 100])}\")\n",
        "print(f\"- Valores extremadamente altos en antigüedad laboral (>50): {len(df[df['antiguedad_laboral'] > 50])}\")\n",
        "print(\"\\n\")"
      ]
    },
    {
      "cell_type": "code",
      "execution_count": 11,
      "metadata": {},
      "outputs": [
        {
          "name": "stdout",
          "output_type": "stream",
          "text": [
            "Columnas con datos faltantes:\n"
          ]
        },
        {
          "data": {
            "text/html": [
              "<div>\n",
              "<style scoped>\n",
              "    .dataframe tbody tr th:only-of-type {\n",
              "        vertical-align: middle;\n",
              "    }\n",
              "\n",
              "    .dataframe tbody tr th {\n",
              "        vertical-align: top;\n",
              "    }\n",
              "\n",
              "    .dataframe thead th {\n",
              "        text-align: right;\n",
              "    }\n",
              "</style>\n",
              "<table border=\"1\" class=\"dataframe\">\n",
              "  <thead>\n",
              "    <tr style=\"text-align: right;\">\n",
              "      <th></th>\n",
              "      <th>Missing Values</th>\n",
              "      <th>Percentage</th>\n",
              "    </tr>\n",
              "  </thead>\n",
              "  <tbody>\n",
              "    <tr>\n",
              "      <th>tasa_interes</th>\n",
              "      <td>3116</td>\n",
              "      <td>9.563856</td>\n",
              "    </tr>\n",
              "    <tr>\n",
              "      <th>antiguedad_laboral</th>\n",
              "      <td>895</td>\n",
              "      <td>2.747000</td>\n",
              "    </tr>\n",
              "  </tbody>\n",
              "</table>\n",
              "</div>"
            ],
            "text/plain": [
              "                    Missing Values  Percentage\n",
              "tasa_interes                  3116    9.563856\n",
              "antiguedad_laboral             895    2.747000"
            ]
          },
          "metadata": {},
          "output_type": "display_data"
        },
        {
          "name": "stdout",
          "output_type": "stream",
          "text": [
            "\n",
            "\n",
            "Registros duplicados: 165\n",
            "\n",
            "\n"
          ]
        }
      ],
      "source": [
        "# ¿Se identificaron y abordaron posibles problemas, como valores atípicos, duplicados o datos faltantes?\n",
        "\n",
        "# Verificando la ausencia de datos\n",
        "missing_data = df.isnull().sum()\n",
        "missing_percent = (df.isnull().sum() / len(df)) * 100\n",
        "missing_df = pd.DataFrame({'Missing Values': missing_data, 'Percentage': missing_percent})\n",
        "missing_df = missing_df[missing_df['Missing Values'] > 0].sort_values(by='Missing Values', ascending=False)\n",
        "\n",
        "print(\"Columnas con datos faltantes:\")\n",
        "display(missing_df)\n",
        "print(\"\\n\")\n",
        "\n",
        "# Verificar valores duplicados\n",
        "duplicados = df.duplicated().sum()\n",
        "print(f\"Registros duplicados: {duplicados}\")\n",
        "print(\"\\n\")"
      ]
    },
    {
      "cell_type": "markdown",
      "metadata": {
        "id": "e90ec109"
      },
      "source": [
        "### **2.4. Tipos de variables**\n",
        "---\n",
        "\n",
        "- ¿El conjunto de datos tiene una variable objetivo a estimar?, de ser así, ¿es una variable continúa o categórica?\n",
        "- Analice la distribución de las etiquetas, identifique si hay desbalanceo de datos."
      ]
    },
    {
      "cell_type": "code",
      "execution_count": 15,
      "metadata": {
        "id": "W8wdQuGMX50Q"
      },
      "outputs": [
        {
          "name": "stdout",
          "output_type": "stream",
          "text": [
            "Variable categorica a utilziar es: estado_prestamo\n",
            "\n",
            "\n",
            "La variable estado_prestamo es categorica: False\n",
            "\n",
            "\n",
            "La variable estado_prestamo ha sido convertida a tipo categorico.\n",
            "\n",
            "\n",
            "Conteo de categorias en la variable estado_prestamo:\n",
            "\n",
            "\n",
            "estado_prestamo\n",
            "Inactivo    25473\n",
            "Activo       7108\n",
            "Name: count, dtype: int64\n",
            "\n",
            "\n",
            "Si el valor de p-valor es menor al valor de significancia, se rechaza la hipotesis nula, es el p-valor es mayor a el valor de significancia, no se rechaza la hipotesis nula.\n",
            "\n",
            "\n",
            "Valor de significancia: 0.05\n",
            "\n",
            "Valor del Chi_cuadrado: 10351.8377275099\n",
            "\n",
            "Valor del p-valor: 0.0\n",
            "\n",
            "Se rechaza la hipótesis nula: hay desbalanceo en las categorías.\n"
          ]
        }
      ],
      "source": [
        "# ---INGRESE SU CÓDIGO---\n",
        "\n",
        "#El conjunto de datos contiene la variable \"estado_prestamo\", que indica si el préstamo fue pagado o no.\n",
        "#Es una variable categorica, por lo que se puede utilizar para clasificar los datos.\n",
        "array_columnas = np.array(df.columns)\n",
        "indice_columna = np.where(array_columnas == 'estado_prestamo')[0][0]\n",
        "nombre_variable = array_columnas[indice_columna]\n",
        "print(f\"Variable categorica a utilziar es: {nombre_variable}\")\n",
        "print(\"\\n\")\n",
        "\n",
        "#Realizamos la validacion de que la columna estado_prestamo es categorica o no.\n",
        "es_categorica = set(df['estado_prestamo'].unique()).issubset({'Activo', 'Inactivo'})\n",
        "print(f\"La variable {nombre_variable} es categorica: {es_categorica}\")\n",
        "print(\"\\n\")\n",
        "\n",
        "#Realizamos la conversion del tipo de variable a categorica utlizando las categorias (Activo, Inactivo).\n",
        "if not es_categorica:\n",
        "    array_data = df[nombre_variable]\n",
        "    array_categorical = np.where(array_data == 1, 'Activo', 'Inactivo')\n",
        "    df[nombre_variable] = array_categorical\n",
        "    print(f\"La variable {nombre_variable} ha sido convertida a tipo categorico.\")\n",
        "    print(\"\\n\")\n",
        "\n",
        "#Realizamos el contento de las categorias de la variable \"estado_prestamo\".\n",
        "conteo_categorias = df[nombre_variable].value_counts()\n",
        "DataFrameCategorias = pd.DataFrame({'estado_prestamo' : conteo_categorias})\n",
        "\n",
        "print(f\"Conteo de categorias en la variable {nombre_variable}:\")\n",
        "print(\"\\n\")\n",
        "print(conteo_categorias)\n",
        "\n",
        "print(\"\\n\")\n",
        "print('Si el valor de p-valor es menor al valor de significancia, se rechaza la hipotesis nula, es el p-valor es mayor a el valor de significancia, no se rechaza la hipotesis nula.')\n",
        "print(\"\\n\")\n",
        "\n",
        "valor_significancia = 0.05\n",
        "print(f\"Valor de significancia: {valor_significancia}\\n\")\n",
        "\n",
        "\n",
        "# Realizamos la prueba de Chi-cuadrado para determinar si hay desbalanceo en las categorias de la variable \"estado_prestamo\".\n",
        "# La hipotesis nula es que no hay desbalanceo en las categorias de la variable \"estado_prestamo\".\n",
        "chi2, p_valor = stats.chisquare(DataFrameCategorias['estado_prestamo'])\n",
        "\n",
        "print(f\"Valor del Chi_cuadrado: {chi2}\\n\")\n",
        "print(f\"Valor del p-valor: {p_valor}\\n\")\n",
        "\n",
        "#validacion de la hipotesis nula.\n",
        "if p_valor < valor_significancia:\n",
        "    print(\"Se rechaza la hipótesis nula: hay desbalanceo en las categorías.\")\n",
        "else:  \n",
        "    print(\"No se rechaza la hipótesis nula: no hay desbalanceo en las categorias.\")\n",
        "\n",
        "\n"
      ]
    },
    {
      "cell_type": "markdown",
      "metadata": {
        "id": "d0c26982"
      },
      "source": [
        "1. ¿El conjunto de datos tiene una variable objetivo a estimar?, de ser así, ¿es una variable continúa o categórica?\n",
        "\n",
        "    - El conjunto de datos cuenta con la variable a estimar que es la columna \"estado_prestamo\", la cual nos indica si el prestamo esta activo o no, la variable inicialmente es una variable continua, pero dentro del proceso de validacion y verificacion se contempla pasar a un tipo de variable categorica que facilita y agiliza la validacion de la misma, se pasa a dos categorias (\"Activo\", \"Inactivo\")\n",
        "\n",
        "\n",
        "2. Analice la distribución de las etiquetas, identifique si hay desbalanceo de datos.\n",
        "\n",
        "    - Para la variable \"estado_prestamo\" ya transformada a una variable categorica, se utiliza la prueba de chi-cuadrado utilizando la libreria scipy (Scientific Python) para poder realizar la validacion de las frecuencias esperadas y obtener el p-valor el cual se compara con el valor de significancia de 0.05 o 5% y teniendi un valor de confianza del 95%, al realziar la comparacion se evidencia que hay pruebas suficientes para descargar la hipotesis nula y tomar como correcta la hipotesis alternativa que indica que existe un desbalanceo de datos para la variable \"estado_prestamo\"."
      ]
    },
    {
      "cell_type": "markdown",
      "metadata": {
        "id": "ceibuW1dNH9a"
      },
      "source": [
        "## **Créditos**\n",
        "* **Profesor:** [Felipe Restrepo Calle](https://dis.unal.edu.co/~ferestrepoca/)\n",
        "* **Asistentes docentes:**\n",
        "    - [Juan Sebastián Lara Ramírez](https://www.linkedin.com/in/juan-sebastian-lara-ramirez-43570a214/).\n",
        "* **Diseño de imágenes:**\n",
        "    - [Rosa Alejandra Superlano Esquibel](mailto:rsuperlano@unal.edu.co).\n",
        "* **Coordinador de virtualización:**\n",
        "    - [Edder Hernández Forero](https://www.linkedin.com/in/edder-hernandez-forero-28aa8b207/).\n",
        "    \n",
        "**Universidad Nacional de Colombia** - *Facultad de Ingeniería*"
      ]
    }
  ],
  "metadata": {
    "colab": {
      "provenance": []
    },
    "kernelspec": {
      "display_name": ".venv",
      "language": "python",
      "name": "python3"
    },
    "language_info": {
      "codemirror_mode": {
        "name": "ipython",
        "version": 3
      },
      "file_extension": ".py",
      "mimetype": "text/x-python",
      "name": "python",
      "nbconvert_exporter": "python",
      "pygments_lexer": "ipython3",
      "version": "3.13.2"
    }
  },
  "nbformat": 4,
  "nbformat_minor": 0
}
